{
 "cells": [
  {
   "cell_type": "code",
   "execution_count": 1,
   "metadata": {},
   "outputs": [
    {
     "data": {
      "text/plain": [
       "True"
      ]
     },
     "execution_count": 1,
     "metadata": {},
     "output_type": "execute_result"
    }
   ],
   "source": [
    "import os\n",
    "from dotenv import load_dotenv\n",
    "load_dotenv()"
   ]
  },
  {
   "cell_type": "code",
   "execution_count": 2,
   "metadata": {},
   "outputs": [],
   "source": [
    "os.environ[\"OPENAI_API_KEY\"]=os.getenv(\"OPENAI_API_KEY\")"
   ]
  },
  {
   "cell_type": "code",
   "execution_count": 4,
   "metadata": {},
   "outputs": [],
   "source": [
    "#loading data and create documents\n",
    "from llama_index.core import VectorStoreIndex, SimpleDirectoryReader\n",
    "documents=SimpleDirectoryReader(\"data\").load_data()"
   ]
  },
  {
   "cell_type": "code",
   "execution_count": 5,
   "metadata": {},
   "outputs": [
    {
     "data": {
      "text/plain": [
       "[Document(id_='b3b02d59-26ff-4538-8ba2-210bcca82e74', embedding=None, metadata={'page_label': '1', 'file_name': 'c:/Users/Admin/Desktop/ResumePP/data/Ashik S (11).pdf', 'file_path': 'c:\\\\Users\\\\Admin\\\\Desktop\\\\ResumePP\\\\data\\\\Ashik S (11).pdf', 'file_type': 'application/pdf', 'file_size': 16294, 'creation_date': '2023-09-13', 'last_modified_date': '2023-09-13', 'last_accessed_date': None}, excluded_embed_metadata_keys=['file_name', 'file_type', 'file_size', 'creation_date', 'last_modified_date', 'last_accessed_date'], excluded_llm_metadata_keys=['file_name', 'file_type', 'file_size', 'creation_date', 'last_modified_date', 'last_accessed_date'], relationships={}, text='Ashik S\\nPython Full Stack Developer\\n\\uf0e0 ashiksananthu@gmail.com |\\uf0e1 Ashik S |\\uf09b Ashik |\\uf095 +918139885311\\nPERSONAL PROFILE\\nA highly skilled and motivated full-stack developer with experience in web development. Proficient\\nin Django, Python, HTML, CSS, JavaScript, and various other technologies. Experience in developing\\nand maintaining web applications from start to finish, including front-end and back-end development,\\ndatabase design, and deployment.\\nPROJECTS\\n(A) DocBook\\nLive Link\\nGit Link (source code)\\n•A Website for booking appointments with doctors.\\nDoctors can add and edit their consulting time\\n•Users can view the date and time and book their\\nappointment.\\n•Users can chat with the doctor after booking their\\nslot.\\n•Doctors can purchase a package for their service.\\n•Both user and doctor authenticate by OTP (via\\nemail).\\n•Users can view previous bookings.\\n•Developed with Django RestAPI and ReactJS.\\n(B) EasyBuy(E-commerce)\\nGit Link (source code)\\n•It is a fully functional e-commerce platform for\\nelectronic gadgets\\n•Integrated Razorpay payment gateway for secure\\nand reliable online transactions.\\n•OTP verification using Twilio.\\n•Users can view the product, add it to their cart,\\nand checkout\\n•Admin can add, edit products and control the en-\\ntire site.\\n•User authentication using session and OTP verifi-\\ncation.\\nMINI - PROJECTS\\n(A) Netflix Clone (ReactJS)\\nGit Link(source code)\\n•Integrated IMDB API for the movie details\\n•Users can see the trailers of the movies from the\\napp.\\n(B) OLX Clone (ReactJS)\\nGit Link(source code)\\n•It’s a clone of OLX application\\n•Developed using ReactJS and FirebaseSKILLS\\n•Python\\n•Django\\n•RestAPI\\n•Javascript\\n•ReactJS\\n•Redux T oolKit\\n•MySQL\\n•PostgreSQL\\n•MongoDB\\n•HTML\\n•CSS\\n•Git\\n•GitHub\\n•T ailwindCSS\\n•AWS\\nEXPERIENCE\\nWindsoft Computer Education\\nWeb Developer(Intern)\\nAttingal, T rivandrum, India\\nAugust 2021 - May 2022\\nEDUCA TION\\nBROTOTYPE\\nWeb Development in Python\\nT rivandrum, Kerala, India\\nJune 2022 - present\\nUIT College Azhoor\\nB.Sc Computer Science\\nT rivandrum, Kerala\\nJune 2018 - June 2021\\nK. T .C. T Kaduvail\\nComputer Science\\nT rivandrum, Kerala\\nJune 2016 - June 2018', start_char_idx=None, end_char_idx=None, text_template='{metadata_str}\\n\\n{content}', metadata_template='{key}: {value}', metadata_seperator='\\n'),\n",
       " Document(id_='dc6189a5-e90d-4b26-ad45-f371267aa52d', embedding=None, metadata={'page_label': '', 'file_name': 'c:/Users/Admin/Desktop/ResumePP/data/ASHIK_ANDREWS_RESUME.pdf', 'file_path': 'c:\\\\Users\\\\Admin\\\\Desktop\\\\ResumePP\\\\data\\\\ASHIK_ANDREWS_RESUME.pdf', 'file_type': 'application/pdf', 'file_size': 78812, 'creation_date': '2024-02-02', 'last_modified_date': '2024-02-02', 'last_accessed_date': None}, excluded_embed_metadata_keys=['file_name', 'file_type', 'file_size', 'creation_date', 'last_modified_date', 'last_accessed_date'], excluded_llm_metadata_keys=['file_name', 'file_type', 'file_size', 'creation_date', 'last_modified_date', 'last_accessed_date'], relationships={}, text='ASHIK ANDREWS A\\nDATA SCIENTIST\\n♂phone+91 8137849283 /envel⌢peashikandrew23@gmail.com /linkedinLinkedIn /githubGitHub\\nSUMMARY\\nSelf taught Data Scientist with a passion for exploring new deep learning techniques and applying them to solve\\ncomplex business problems. Experienced in developing and implementing data-driven solutions that optimize\\nefficiency and drive decision-making.\\nTECHNICAL STACKS\\nData Science/ Machine Learning/ Deep Learning : Python, Data Visualisation, Supervised learning,\\nUnsupervised Learning, ANN, CNN, RNN, LSTM,\\nFeature engineering, Feature selection & extraction\\nNatural Language Processing : Word Embedding, Word2Vec, Bag of Words, Tf-idf\\nMathematics for ML and DL : Algebra, Probability, Statistics, Calculas, Matrices\\nPython packages and Frameworks : Scikit-Learn, Tensorflow, Keras, LangChain, NumPy,\\nPandas, Matplotlib, Seaborn\\nWeb Development : HTML, CSS, Bootstrap, Flask, Streamlit, GitHub\\nProgramming languages : C, C++, Java, Python\\nDatabases : MySQL, PostgreSQL\\nIDEs and Tools : Jupyter Notebook, Google Colab, VScode, PyCharm,\\nTableau, PowerBI\\nPROJECTS\\nArticle Research Tool October 2023 - November 2023\\n(Article Based Question Answering) GitHub\\n•Developed a user-friendly web application using Streamlit and Langchain to simplify article research and\\nextract relevant information from URLs.\\n•Leveraged NLP and machine learning to create an efficient index of article embeddings for quick and accurate\\ninformation retrieval.\\n•Implemented FAISS to create a comprehensive index of article embeddings, enabling fast and accurate retrieval\\nof relevant information.\\n•Employed OpenAI’s LLM to generate informative answers to user queries, enhancing the research tool’s value.\\nTechnologies used in the project :\\nStreamlit, Langchain, RecursiveCharacterTextSplitter, OpenAIEmbeddings, FAISS, RetrievalQAWithSourcesChain,\\nOpenAI\\nChat bot-llama2 November 2023\\n(Question Answering Chat-bot) Live | GitHub\\n•Developed a web-based chatbot using Streamlit for a seamless user experience.\\n•Leveraged the Llama2 large language model from Replicate to generate comprehensive and engaging re-\\nsponses.\\n•Integrated a chat history feature to maintain context and consistency throughout conversations.\\n•Provided options for selecting different Llama2 models and adjusting response parameters for personalized\\ninteractions.\\n•Showcased proficiency in Python ,Streamlit , and Replicate API integration , culminating in successful deploy-\\nment to a web server.\\nTechnologies used in the project :\\nStreamlit, Replicate, Llama2\\nLoan-Predictor September 2023\\n(Loan-Prediction Tool) GitHub', start_char_idx=None, end_char_idx=None, text_template='{metadata_str}\\n\\n{content}', metadata_template='{key}: {value}', metadata_seperator='\\n'),\n",
       " Document(id_='c68311d4-56f7-46a5-a46d-0d0df5daaf33', embedding=None, metadata={'page_label': '', 'file_name': 'c:/Users/Admin/Desktop/ResumePP/data/ASHIK_ANDREWS_RESUME.pdf', 'file_path': 'c:\\\\Users\\\\Admin\\\\Desktop\\\\ResumePP\\\\data\\\\ASHIK_ANDREWS_RESUME.pdf', 'file_type': 'application/pdf', 'file_size': 78812, 'creation_date': '2024-02-02', 'last_modified_date': '2024-02-02', 'last_accessed_date': None}, excluded_embed_metadata_keys=['file_name', 'file_type', 'file_size', 'creation_date', 'last_modified_date', 'last_accessed_date'], excluded_llm_metadata_keys=['file_name', 'file_type', 'file_size', 'creation_date', 'last_modified_date', 'last_accessed_date'], relationships={}, text='•Developed a machine learning-powered web application to predict loan eligibility.\\n•Streamlined the loan application process with data-driven insights and efficiency.\\n•Leveraged Flask and NumPy to create a user-friendly interface and optimize model performance.\\nTechnologies used in the project :\\nSupervised Learning, Flask, Pickle, NumPy, Pandas, Matplotlib, Seaborn\\nMINI PROJECTS\\nSpotify Music Recommendation System GitHub\\nThis project leverages the Spotify API to create a personalized music recommendation system by analyzing\\nmusic data and identifying patterns.\\nNLP-Sentiment Analysis GitHub\\nThis project utilizes EDA ,NLP , and machine learning to extract and analyze sentiment from Amazon product\\nreviews.\\nPersonal Website GitHub\\nFully responsive web page using HTML, CSS, JavaScript and Bootstrap 5, deployed with GitHub Pages .\\nNetflix Clone Live | GitHub\\nStatic web page using HTML, CSS and JavaScript deployed with GitHub Pages .\\nTwitter Clone Live | GitHub\\nStatic web page using HTML, CSS and JavaScript deployed with GitHub Pages .\\nEDUCATION\\nData Science with Generative AI November 2022 - Present\\nBrototype, Trivandrum\\nMaster of Computer Applications July 2020 - August 2022\\nAnna University, Chennai\\nCGPA : 8\\nBachelor of Computer Science June 2017 - May 2020\\nManonmaniam Sundaranar University\\nCGPA : 8\\nCERTIFICATIONS\\nAI for India 2.0 August 2023\\nGUVI Geek Networks, IITM Research Park\\nApplied Data Science with Python - Level 2 July 2023\\nIBM\\nData Analysis Using Python July 2023\\nIBM\\nPython for Data Science July 2023\\nGUVI Geek Networks, IITM Research Park\\nDECLARATION\\nI certify that the information provided in this resume is true and complete to the best of my knowledge. I\\nunderstand that any false statements may disqualify me from employment. I authorize the verification of any\\nand all information listed in this resume.\\n- Ashik Andrews A', start_char_idx=None, end_char_idx=None, text_template='{metadata_str}\\n\\n{content}', metadata_template='{key}: {value}', metadata_seperator='\\n'),\n",
       " Document(id_='8d5ae824-b81e-4765-b329-06ae0beb7c36', embedding=None, metadata={'page_label': '1', 'file_name': 'c:/Users/Admin/Desktop/ResumePP/data/Ashna-James-CV (1).pdf', 'file_path': 'c:\\\\Users\\\\Admin\\\\Desktop\\\\ResumePP\\\\data\\\\Ashna-James-CV (1).pdf', 'file_type': 'application/pdf', 'file_size': 78933, 'creation_date': '2024-02-28', 'last_modified_date': '2024-02-28', 'last_accessed_date': None}, excluded_embed_metadata_keys=['file_name', 'file_type', 'file_size', 'creation_date', 'last_modified_date', 'last_accessed_date'], excluded_llm_metadata_keys=['file_name', 'file_type', 'file_size', 'creation_date', 'last_modified_date', 'last_accessed_date'], relationships={}, text='PROFILE\\nAmbitious and analytical data science student with a robust foundation in mathematics and statistics. Proficient in employing data mining and\\nmachine learning techniques to reveal patterns and predict outcomes from extensive datasets. Adept at utilizing SQL, Python, R, and diverse\\ndata visualization tools to cleanse, manipulate, and present data. Eager to contribute my passion for data and commitment to excellence in a\\nchallenging data science role.\\nINTERNSHIP DETAILS\\nData Scientist\\nMedusind Solutions03/2023 – 07/2023\\nchennai\\nDS&ML Project: Automated Insurance Claims Approval Model.\\n•Developed an automated insurance claims approval model leveraging Random Forest, guided by thorough \\nExploratory Data Analysis (EDA).\\n•Cleaned and analyzed historical claims data to enhance model precision and recall.\\n•Utilized the F1 score as the primary classification metric to optimize model performance.\\n•This project resulted in a substantial improvement in operational efficiency and accuracy within the claim \\nprocessing system.\\nData Processing\\nRubrix Analytics\\nPrimary role involves collecting, cleaning, transforming, and organizing data to make it usable for analysis, \\nreporting, and decision-making purposes.09/2023\\nKochi\\nEDUCATION\\nMSc Computer Science (Data science)\\nRajiv Gandhi National Institute of Youth Development,Sriperumbadur,Chennai\\nPercentage :832021 – 2023\\nBSc Mathematics\\nKannur University\\nCGPA : 9.12018 – 2021\\nSKILLS\\nProgramming languages\\nPython\\nR\\nSQL\\nData mining and data visualization\\nExcel ProficiencyMachine learning\\nClassification\\nRandom Forest\\nClustering\\nNeural networks etc\\nDeep learning techniques\\nTensorflow\\nkeras\\nNLPStatistical analysis\\nHypothesis testing\\nRegression\\nPython libraries\\nnumpy\\npandas\\nmatplotlib\\nscikit-learn\\nPROJECTS\\nChat GPT sentiment Analysis\\n•Implemented sentiment analysis on ChatGPT-generated text using the advanced Deberta model from Hugging \\nFace Transformers.11/2023\\n•Conducted natural language processing to determine sentiment (positive, negative, neutral) in the context of \\nconversational AI.\\n•Achieved enhanced sentiment understanding, providing valuable insights into user interactions with ChatGPT.\\nDigit Recognition\\n•Developed a machine learning model utilizing Convolutional Neural Networks (CNNs) for accurate \\nidentification and classification of handwritten or digitized digits (0-9).09/2023\\n•Utilized TensorFlow, PIL (Python Imaging Library), and cv2 (OpenCV) to implement and optimize the digit \\nrecognition model.\\n•Successfully created a robust model capable of precisely classifying digits, contributing to advancements in \\nautomated digit recognition systems.\\nOnline Payment Fraud Detection\\nThis project aims to provide a robust and effective solution for detecting online payment fraud using a Decision \\ntree classifier and maintaining vigilance against evolving fraudulent activities in the online payment ecosystem.08/2023\\nAutomated Loan Eligibility Prediction System\\nDeveloped a real-time decision-making system for online loan applications using Decision trees, supported by \\nEDA and data cleaning.07/2023\\nCOURSES AND CERTIFICATIONS\\nIntroduction to data science\\nworkshop on  Application of Artificial \\nIntelligence in everyday life\\nMachine learning specialization(coursera)Blockchain technology\\nData Analytics with python\\n100 Days of code: The complete python \\npro bootcamp 2023(Udemi)workshop on matlab\\nAffective computing\\nSQL for data science(University of \\nCalifornia)Ashna James\\nashnajames2018@gmail.com 9605000721 www.linkedin.com/in/ashna-james-68b62b224', start_char_idx=None, end_char_idx=None, text_template='{metadata_str}\\n\\n{content}', metadata_template='{key}: {value}', metadata_seperator='\\n')]"
      ]
     },
     "execution_count": 5,
     "metadata": {},
     "output_type": "execute_result"
    }
   ],
   "source": [
    "documents"
   ]
  },
  {
   "cell_type": "code",
   "execution_count": 7,
   "metadata": {},
   "outputs": [],
   "source": [
    "#converting document into vectors and indexing them\n",
    "index=VectorStoreIndex.from_documents(documents)"
   ]
  },
  {
   "cell_type": "code",
   "execution_count": 8,
   "metadata": {},
   "outputs": [
    {
     "data": {
      "text/plain": [
       "<llama_index.core.indices.vector_store.base.VectorStoreIndex at 0x1a478a6ee50>"
      ]
     },
     "execution_count": 8,
     "metadata": {},
     "output_type": "execute_result"
    }
   ],
   "source": [
    "index"
   ]
  },
  {
   "cell_type": "code",
   "execution_count": 9,
   "metadata": {},
   "outputs": [],
   "source": [
    "query_engine=index.as_query_engine()"
   ]
  },
  {
   "cell_type": "code",
   "execution_count": 43,
   "metadata": {},
   "outputs": [],
   "source": [
    "response = query_engine.query(\"Who is Ashna James\")"
   ]
  },
  {
   "cell_type": "code",
   "execution_count": 44,
   "metadata": {},
   "outputs": [
    {
     "name": "stdout",
     "output_type": "stream",
     "text": [
      "Ashna James is an ambitious and analytical data science student with a robust foundation in mathematics and statistics. She is proficient in employing data mining and machine learning techniques to reveal patterns and predict outcomes from extensive datasets. Ashna is adept at utilizing SQL, Python, R, and diverse data visualization tools to cleanse, manipulate, and present data. She is eager to contribute her passion for data and commitment to excellence in a challenging data science role.\n"
     ]
    }
   ],
   "source": [
    "print(response)"
   ]
  },
  {
   "cell_type": "code",
   "execution_count": null,
   "metadata": {},
   "outputs": [],
   "source": []
  }
 ],
 "metadata": {
  "kernelspec": {
   "display_name": "myenv",
   "language": "python",
   "name": "python3"
  },
  "language_info": {
   "codemirror_mode": {
    "name": "ipython",
    "version": 3
   },
   "file_extension": ".py",
   "mimetype": "text/x-python",
   "name": "python",
   "nbconvert_exporter": "python",
   "pygments_lexer": "ipython3",
   "version": "3.8.2"
  }
 },
 "nbformat": 4,
 "nbformat_minor": 2
}
